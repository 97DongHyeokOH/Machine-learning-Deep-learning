{
  "nbformat": 4,
  "nbformat_minor": 0,
  "metadata": {
    "colab": {
      "name": "러닝머신 4일차.ipynb",
      "provenance": [],
      "authorship_tag": "ABX9TyOjWOKouYsFIhm/Qca6uv/d",
      "include_colab_link": true
    },
    "kernelspec": {
      "name": "python3",
      "display_name": "Python 3"
    }
  },
  "cells": [
    {
      "cell_type": "markdown",
      "metadata": {
        "id": "view-in-github",
        "colab_type": "text"
      },
      "source": [
        "<a href=\"https://colab.research.google.com/github/97DongHyeokOH/Machine-learning-Deep-learning/blob/main/%EB%A8%B8%EC%8B%A0%EB%9F%AC%EB%8B%9D_4%EC%9D%BC%EC%B0%A8.ipynb\" target=\"_parent\"><img src=\"https://colab.research.google.com/assets/colab-badge.svg\" alt=\"Open In Colab\"/></a>"
      ]
    },
    {
      "cell_type": "code",
      "metadata": {
        "id": "fka0zk5peKcD"
      },
      "source": [
        "# k-최근접 이웃 회귀(regression)\r\n",
        "# -> 임의의 어떤 숫자를 예측"
      ],
      "execution_count": 1,
      "outputs": []
    },
    {
      "cell_type": "code",
      "metadata": {
        "id": "_n2GVsqtig4q"
      },
      "source": [
        "# 농어 데이터 준비\r\n",
        "\r\n",
        "import numpy as np\r\n",
        "\r\n",
        "perch_length = np.array([8.4, 13.7, 15.0, 16.2, 17.4, 18.0, 18.7, 19.0, 19.6, 20.0, 21.0,\r\n",
        "       21.0, 21.0, 21.3, 22.0, 22.0, 22.0, 22.0, 22.0, 22.5, 22.5, 22.7,\r\n",
        "       23.0, 23.5, 24.0, 24.0, 24.6, 25.0, 25.6, 26.5, 27.3, 27.5, 27.5,\r\n",
        "       27.5, 28.0, 28.7, 30.0, 32.8, 34.5, 35.0, 36.5, 36.0, 37.0, 37.0,\r\n",
        "       39.0, 39.0, 39.0, 40.0, 40.0, 40.0, 40.0, 42.0, 43.0, 43.0, 43.5,\r\n",
        "       44.0])\r\n",
        "perch_weight = np.array([5.9, 32.0, 40.0, 51.5, 70.0, 100.0, 78.0, 80.0, 85.0, 85.0, 110.0,\r\n",
        "       115.0, 125.0, 130.0, 120.0, 120.0, 130.0, 135.0, 110.0, 130.0,\r\n",
        "       150.0, 145.0, 150.0, 170.0, 225.0, 145.0, 188.0, 180.0, 197.0,\r\n",
        "       218.0, 300.0, 260.0, 265.0, 250.0, 250.0, 300.0, 320.0, 514.0,\r\n",
        "       556.0, 840.0, 685.0, 700.0, 700.0, 690.0, 900.0, 650.0, 820.0,\r\n",
        "       850.0, 900.0, 1015.0, 820.0, 1100.0, 1000.0, 1100.0, 1000.0,\r\n",
        "       1000.0])"
      ],
      "execution_count": 2,
      "outputs": []
    },
    {
      "cell_type": "code",
      "metadata": {
        "colab": {
          "base_uri": "https://localhost:8080/",
          "height": 279
        },
        "id": "FCYjyDs9ixnk",
        "outputId": "f5f96c7d-ab34-4823-b7fd-2c4b57699b31"
      },
      "source": [
        "# 산점도 그려보기\r\n",
        "\r\n",
        "import matplotlib.pyplot as plt\r\n",
        "\r\n",
        "plt.scatter(perch_length, perch_weight)\r\n",
        "plt.xlabel('length')\r\n",
        "plt.ylabel('weight')\r\n",
        "plt.show()"
      ],
      "execution_count": 3,
      "outputs": [
        {
          "output_type": "display_data",
          "data": {
            "image/png": "[encoded data removed]",
            "text/plain": [
              "<Figure size 432x288 with 1 Axes>"
            ]
          },
          "metadata": {
            "tags": [],
            "needs_background": "light"
          }
        }
      ]
    },
    {
      "cell_type": "code",
      "metadata": {
        "colab": {
          "base_uri": "https://localhost:8080/"
        },
        "id": "gsGggq7_knts",
        "outputId": "a911376c-70ca-4119-938b-2a8d32355463"
      },
      "source": [
        "# 데이터를 훈련세트와 테스트 세트로 나누기\r\n",
        "\r\n",
        "from sklearn.model_selection import train_test_split\r\n",
        "\r\n",
        "train_input, test_input, train_target, test_target = train_test_split(perch_length, perch_weight, random_state = 42)\r\n",
        "\r\n",
        "# 사이킷런에 사용할 훈련세트는 2차월 배열이여야 함 -> numpy 배열 크기를 바꾸는 reshape()\r\n",
        "\r\n",
        "test_array = np.array([1,2,3,4])\r\n",
        "print(test_array.shape)\r\n",
        "\r\n",
        "test_array = test_array.reshape(2,2)\r\n",
        "print(test_array.shape)"
      ],
      "execution_count": 5,
      "outputs": [
        {
          "output_type": "stream",
          "text": [
            "(4,)\n",
            "(2, 2)\n"
          ],
          "name": "stdout"
        }
      ]
    },
    {
      "cell_type": "code",
      "metadata": {
        "colab": {
          "base_uri": "https://localhost:8080/"
        },
        "id": "nu9C9geLmflH",
        "outputId": "810a2405-9471-466e-e2af-5cdcf369daa7"
      },
      "source": [
        "# reshape를 이용해 test_input, train_input을 2차원 배열로 바꿈\r\n",
        "# reshape의 크기를 -1로 지정하면 나머지 원소 개수로 모두 채워라는 의미\r\n",
        "\r\n",
        "train_input= train_input.reshape(-1,1)\r\n",
        "test_input = test_input.reshape(-1,1)\r\n",
        "print(train_input.shape, test_input.shape)"
      ],
      "execution_count": 6,
      "outputs": [
        {
          "output_type": "stream",
          "text": [
            "(42, 1) (14, 1)\n"
          ],
          "name": "stdout"
        }
      ]
    },
    {
      "cell_type": "code",
      "metadata": {
        "colab": {
          "base_uri": "https://localhost:8080/"
        },
        "id": "UYUTHr5qo4ep",
        "outputId": "c3e9feb0-f6b7-4155-ed12-8c2477537b16"
      },
      "source": [
        "# 결졍계수(R^2)\r\n",
        "\r\n",
        "from sklearn.neighbors import KNeighborsRegressor\r\n",
        "\r\n",
        "knr = KNeighborsRegressor()\r\n",
        "\r\n",
        "# k-최근접 이웃 회귀 모델 훈련\r\n",
        "knr.fit(train_input, train_target)\r\n",
        "\r\n",
        "# 결정계수 (coefficient of determination)\r\n",
        "print(knr.score(test_input, test_target))"
      ],
      "execution_count": 7,
      "outputs": [
        {
          "output_type": "stream",
          "text": [
            "0.9928094061010639\n"
          ],
          "name": "stdout"
        }
      ]
    },
    {
      "cell_type": "code",
      "metadata": {
        "colab": {
          "base_uri": "https://localhost:8080/"
        },
        "id": "1d3K-Kp2ra_K",
        "outputId": "2349a9e4-26a8-47e2-9c53-0b73712284d3"
      },
      "source": [
        "# mean_absolute_error는 타깃과 예측의 절댓값 오차를 평균하여 반환해줌\r\n",
        "\r\n",
        "from sklearn.metrics import mean_absolute_error\r\n",
        "\r\n",
        "# 테스트 세트에 대한 예측을 만듦\r\n",
        "test_prediction = knr.predict(test_input)\r\n",
        "\r\n",
        "# 테스트 세트에 대한 평균 절댓값 오차를 계산\r\n",
        "mae = mean_absolute_error(test_target, test_prediction)\r\n",
        "print(mae)\r\n",
        "\r\n",
        "# 결과에서 예측이 평균적으로 19g정도 타깃값과 다르다"
      ],
      "execution_count": 8,
      "outputs": [
        {
          "output_type": "stream",
          "text": [
            "19.157142857142862\n"
          ],
          "name": "stdout"
        }
      ]
    },
    {
      "cell_type": "code",
      "metadata": {
        "colab": {
          "base_uri": "https://localhost:8080/"
        },
        "id": "seF9E8owu7k6",
        "outputId": "46919475-35eb-4f47-bd8c-93c0e6240e04"
      },
      "source": [
        "# 과대적합, 과소적합\r\n",
        "# 앞에서 훈련한 모델을 사용해 후녈ㄴ세트의 결정계수 점수 확인\r\n",
        "\r\n",
        "print(knr.score(train_input, train_target))\r\n",
        "\r\n",
        "# 테스트 세트를 사용한 점수보다 점수가 낮게 나온다 -> underfitting"
      ],
      "execution_count": 9,
      "outputs": [
        {
          "output_type": "stream",
          "text": [
            "0.9698823289099255\n"
          ],
          "name": "stdout"
        }
      ]
    },
    {
      "cell_type": "code",
      "metadata": {
        "id": "9KJJsri9wh77"
      },
      "source": [
        "# 훈련세트에서 점수가 좋았지만 테스트 세트에서 점수가 나쁘다면 모델이 훈련세트에 과대적합(overfitting) 되었다고 함\r\n",
        "# -> 훈련세트에만 잘 맞는 모델이라 테스트 세트와 나중에 실전에 투입해 새로운 샘플에 대한 예측을 만들 때, 잘 동작하지 못 함\r\n",
        "\r\n",
        "# 훈련 세트보다 테스트 세트의 점수가 너무 높거나, 두 점수가 모두 너무 낮은 경우에 모델이 훈련 세트에 과소적합(underfitting) 되었다고 함\r\n",
        "# -> 모델이 너무 단순해 훈련 세트에 적절히 훈련되지 않은 경우"
      ],
      "execution_count": 10,
      "outputs": []
    },
    {
      "cell_type": "code",
      "metadata": {
        "colab": {
          "base_uri": "https://localhost:8080/"
        },
        "id": "1fy26oF50MCz",
        "outputId": "8329d0ec-be58-427f-f640-8f1701cf0103"
      },
      "source": [
        "# 위의 과소적합을 해결하기 위해서 모델을 조금 더 복잡하게 만들어 준다.-> 이웃의 개수 k를 줄여준다 (5 -> 3)\r\n",
        "\r\n",
        "knr.n_neighbors = 3\r\n",
        "\r\n",
        "knr.fit(train_input, train_target)\r\n",
        "print(knr.score(train_input, train_target))\r\n",
        "print(knr.score(test_input, test_target))"
      ],
      "execution_count": 12,
      "outputs": [
        {
          "output_type": "stream",
          "text": [
            "0.9804899950518966\n",
            "0.974645996398761\n"
          ],
          "name": "stdout"
        }
      ]
    },
    {
      "cell_type": "code",
      "metadata": {
        "id": "13looNvX1YbN"
      },
      "source": [
        "# 일반적으로는 훈련 세트의 점수가 테스트 세트의 점수보다 조금 더 높다."
      ],
      "execution_count": null,
      "outputs": []
    }
  ]
}